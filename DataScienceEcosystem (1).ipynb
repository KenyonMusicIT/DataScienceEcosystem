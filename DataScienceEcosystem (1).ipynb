{
 "cells": [
  {
   "cell_type": "markdown",
   "id": "aeb887af",
   "metadata": {},
   "source": [
    "# Data Science"
   ]
  },
  {
   "cell_type": "markdown",
   "id": "32cc9923-c8f0-434c-afca-4a5e4e1b06d9",
   "metadata": {},
   "source": [
    "### In this notebook, Data Science Tools and Ecosystem are summarized."
   ]
  },
  {
   "cell_type": "markdown",
   "id": "79b406b1-0b22-4718-9a96-246e0fb8ba35",
   "metadata": {},
   "source": [
    "#### Some of the popular languages that Data Scientists use are:"
   ]
  },
  {
   "cell_type": "markdown",
   "id": "fe7153a0-f7ce-4abb-8be2-f8b0b2bc359e",
   "metadata": {},
   "source": [
    "1. Python\n",
    "2. R\n",
    "3. SQL\n",
    "4. Scala\n",
    "5. Java\n",
    "6. C++\n",
    "7. Julia"
   ]
  },
  {
   "cell_type": "markdown",
   "id": "74b44d26-fe05-462b-8fe4-080a31707ea8",
   "metadata": {},
   "source": [
    "#### Some of the commonly used libraries used by Data Scientists include:"
   ]
  },
  {
   "cell_type": "markdown",
   "id": "acac7f13-0719-48fa-817f-f3efe3d7f1fa",
   "metadata": {},
   "source": [
    "1. Scikit-learn\n",
    "2. Tensorflow\n",
    "3. matplotli"
   ]
  },
  {
   "cell_type": "markdown",
   "id": "fc948fdc-7c27-4f84-8050-2543032d2362",
   "metadata": {},
   "source": [
    "| Data Science Tools |\n",
    "| ------------------ |\n",
    "| Jupyter |\n",
    "| Jupiter Labs |\n",
    "| Rstudio |"
   ]
  },
  {
   "cell_type": "markdown",
   "id": "bdf9353d-403a-45d6-a462-6b45d2ce30ab",
   "metadata": {},
   "source": [
    "## Evaluating arithmetic expressions in Python"
   ]
  },
  {
   "cell_type": "code",
   "execution_count": 9,
   "id": "248b98fd-55d7-445c-8dce-a265cd024841",
   "metadata": {},
   "outputs": [
    {
     "data": {
      "text/plain": [
       "17"
      ]
     },
     "execution_count": 9,
     "metadata": {},
     "output_type": "execute_result"
    }
   ],
   "source": [
    "#This a simple arithmetic expression to mutiply then add integers\n",
    "(3*4)+5"
   ]
  },
  {
   "cell_type": "code",
   "execution_count": 10,
   "id": "975caf8c-30d1-439b-b300-c5296e061cca",
   "metadata": {},
   "outputs": [
    {
     "name": "stdout",
     "output_type": "stream",
     "text": [
      "3.3333333333333335\n"
     ]
    }
   ],
   "source": [
    "# This will convert 200 minutes to hours by diving by 60\n",
    "print(200/60)"
   ]
  },
  {
   "cell_type": "markdown",
   "id": "a8e8f5b9-41a6-474c-8c77-64d6acc266a5",
   "metadata": {},
   "source": [
    "**OBJECTIVES**"
   ]
  },
  {
   "cell_type": "markdown",
   "id": "dfad9bb7-6c65-47e0-bc29-24f6db4add3b",
   "metadata": {},
   "source": [
    "- A key property of Jupyter Notebooks is to unify documentation, code, output from the code and more.\n",
    "- For Data Science you can use Pythons computing libraries like Panda, scikit-learn, and more.\n",
    "- Rstudio unifies programming exicution, debugging, and visualizations and more."
   ]
  },
  {
   "cell_type": "markdown",
   "id": "6d99d097-85d2-4d7c-9806-afe6ee75bfbc",
   "metadata": {},
   "source": [
    "## AUTHOR"
   ]
  },
  {
   "cell_type": "markdown",
   "id": "e1674c43-b1da-430f-b756-b9e877e56ec8",
   "metadata": {},
   "source": [
    "### Kenyon Snavely"
   ]
  },
  {
   "cell_type": "code",
   "execution_count": null,
   "id": "f6dc7690-661c-4422-9ed7-6ec5ab54b455",
   "metadata": {},
   "outputs": [],
   "source": []
  }
 ],
 "metadata": {
  "kernelspec": {
   "display_name": "Python 3 (ipykernel)",
   "language": "python",
   "name": "python3"
  },
  "language_info": {
   "codemirror_mode": {
    "name": "ipython",
    "version": 3
   },
   "file_extension": ".py",
   "mimetype": "text/x-python",
   "name": "python",
   "nbconvert_exporter": "python",
   "pygments_lexer": "ipython3",
   "version": "3.11.5"
  }
 },
 "nbformat": 4,
 "nbformat_minor": 5
}
